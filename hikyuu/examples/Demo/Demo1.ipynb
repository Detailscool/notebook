{
 "cells": [
  {
   "cell_type": "code",
   "execution_count": 1,
   "metadata": {
    "collapsed": false
   },
   "outputs": [
    {
     "name": "stdout",
     "output_type": "stream",
     "text": [
      "Wall time: 1min 29s\n"
     ]
    },
    {
     "ename": "NameError",
     "evalue": "name 'use_draw_engine' is not defined",
     "output_type": "error",
     "traceback": [
      "\u001b[0;31m---------------------------------------------------------------------------\u001b[0m",
      "\u001b[0;31mNameError\u001b[0m                                 Traceback (most recent call last)",
      "\u001b[0;32m<ipython-input-1-effdfce8fc48>\u001b[0m in \u001b[0;36m<module>\u001b[0;34m()\u001b[0m\n\u001b[1;32m      2\u001b[0m \u001b[0mget_ipython\u001b[0m\u001b[1;33m(\u001b[0m\u001b[1;33m)\u001b[0m\u001b[1;33m.\u001b[0m\u001b[0mmagic\u001b[0m\u001b[1;33m(\u001b[0m\u001b[1;34m'time from hikyuu.interactive.interactive import *'\u001b[0m\u001b[1;33m)\u001b[0m\u001b[1;33m\u001b[0m\u001b[0m\n\u001b[1;32m      3\u001b[0m \u001b[1;33m\u001b[0m\u001b[0m\n\u001b[0;32m----> 4\u001b[0;31m \u001b[0muse_draw_engine\u001b[0m\u001b[1;33m(\u001b[0m\u001b[1;34m'echarts'\u001b[0m\u001b[1;33m)\u001b[0m\u001b[1;33m\u001b[0m\u001b[0m\n\u001b[0m",
      "\u001b[0;31mNameError\u001b[0m: name 'use_draw_engine' is not defined"
     ]
    }
   ],
   "source": [
    "%matplotlib inline\n",
    "%time from hikyuu.interactive.interactive import *\n",
    "\n",
    "use_draw_engine('echarts')"
   ]
  },
  {
   "cell_type": "markdown",
   "metadata": {},
   "source": [
    "# 一、策略分析\n",
    "\n",
    "## 原始描述\n",
    "\n",
    "买入条件：周线MACD零轴下方底部金叉买入30%\n",
    "\n",
    "卖出条件：日线级别 跌破 20日线 卖出50%持仓\n",
    "\n",
    "\n",
    "## 策略分析\n",
    "\n",
    "市场环境：无\n",
    "\n",
    "系统有效性：无\n",
    "\n",
    "信号指示器：\n",
    "- 买入信号：周线MACD零轴下方底部金叉，即周线的DIF>DEA金叉时买入（快线：DIF，慢线DEA）\n",
    "- 卖出信号：日线级别 跌破 20日均线\n",
    "\n",
    "止损/止盈：无\n",
    "\n",
    "资金管理：\n",
    "- 买入：30% （不明确，暂且当做当前现金的30%）\n",
    "- 卖出：已持仓股票数的50%\n",
    "\n",
    "盈利目标：\n",
    "\n",
    "移滑价差：\n"
   ]
  },
  {
   "cell_type": "markdown",
   "metadata": {},
   "source": [
    "# 二、实现系统部件\n",
    "\n",
    "## 定义信号指示器"
   ]
  },
  {
   "cell_type": "code",
   "execution_count": null,
   "metadata": {
    "collapsed": true
   },
   "outputs": [],
   "source": [
    "def getNextWeekDate(week):\n",
    "    \"\"\"获取指定日期的下一周起始日期\"\"\"\n",
    "    from datetime import timedelta\n",
    "    py_week = week.datetime()\n",
    "    next_week_start = py_week + timedelta(days = 7 - py_week.weekday())\n",
    "    return Datetime(next_week_start)"
   ]
  },
  {
   "cell_type": "code",
   "execution_count": null,
   "metadata": {
    "collapsed": false
   },
   "outputs": [],
   "source": [
    "def DEMO_SG(self):\n",
    "    \"\"\"\n",
    "    买入信号：周线MACD零轴下方底部金叉，即周线的DIF>DEA金叉时买入\n",
    "    卖出信号：日线级别 跌破 20日均线\n",
    "    \n",
    "    参数：\n",
    "    week_macd_n1：周线dif窗口\n",
    "    week_macd_n2: 周线dea窗口\n",
    "    week_macd_n3: 周线macd平滑窗口\n",
    "    day_n: 日均线窗口\n",
    "    \"\"\"\n",
    "    k = self.getTO()\n",
    "    if (len(k) == 0):\n",
    "        return\n",
    "    \n",
    "    stk = k.getStock()\n",
    "    \n",
    "    #-----------------------------\n",
    "    #计算日线级别的卖出信号        \n",
    "    #-----------------------------\n",
    "    day_c = CLOSE(k)\n",
    "    day_ma = MA(day_c, self.getParam(\"day_n\"))\n",
    "    day_x = day_c < day_ma  #收盘价小于均线\n",
    "    for i in range(day_x.discard, len(day_x)):\n",
    "        if day_x[i] >= 1.0:\n",
    "            self._addSellSignal(k[i].datetime)\n",
    "\n",
    "    #-----------------------------\n",
    "    #计算周线级别的买入信号        \n",
    "    #-----------------------------\n",
    "    week_q = QueryByDate(k[0].datetime, k[-1].datetime, kType=Query.WEEK)\n",
    "    week_k = k.getStock().getKData(week_q)\n",
    "    \n",
    "    n1 = self.getParam(\"week_macd_n1\")\n",
    "    n2 = self.getParam(\"week_macd_n2\")\n",
    "    n3 = self.getParam(\"week_macd_n3\")\n",
    "    m = MACD(CLOSE(week_k), n1, n2, n3)\n",
    "    fast = m.getResult(0)\n",
    "    slow = m.getResult(1)\n",
    "    \n",
    "    discard = m.discard if m.discard > 1 else 1\n",
    "    for i in range(discard, len(m)):\n",
    "        if (fast[i-1] < slow[i-1] and fast[i] > slow[i]):\n",
    "            #当周计算的结果，只能作为下周一的信号\n",
    "            self._addBuySignal(getNextWeekDate(week_k[i].datetime))\n",
    "         "
   ]
  },
  {
   "cell_type": "markdown",
   "metadata": {},
   "source": [
    "## 定义资金管理策略"
   ]
  },
  {
   "cell_type": "code",
   "execution_count": null,
   "metadata": {
    "collapsed": true
   },
   "outputs": [],
   "source": [
    "class DEMO_MM(MoneyManagerBase):\n",
    "    \"\"\"\n",
    "    买入：30% （不明确，暂且当做当前现金的30%）\n",
    "    卖出：已持仓股票数的50%\n",
    "    \"\"\"\n",
    "    def __init__(self):\n",
    "        super(DEMO_MM, self).__init__(\"MACD_MM\")\n",
    "        \n",
    "    def _reset(self):\n",
    "        pass\n",
    "    \n",
    "    def _clone(self):\n",
    "        return DEMO_MM()\n",
    "        \n",
    "    def _getBuyNumber(self, datetime, stk, price, risk):\n",
    "        tm = self.getTM()\n",
    "        cash = tm.currentCash\n",
    "        \n",
    "        #返回类型必须是int\n",
    "        num = int((cash * 0.3 // price // stk.atom) * stk.atom)\n",
    "        #print(\"buy: \", num)\n",
    "        return num\n",
    "    \n",
    "    def _getSellNumber(self, datetime, stk, price, risk):\n",
    "        tm = self.getTM()\n",
    "        position = tm.getPosition(stk)\n",
    "        total_num = position.number\n",
    "        num = total_num * 0.5\n",
    "        atom_num = (num // stk.atom) * (stk.atom + 1) #卖多点\n",
    "        \n",
    "        #返回类型必须是int\n",
    "        num = int(num if num < atom_num else atom_num)\n",
    "        #print(\"sell: \", num)\n",
    "        return num\n",
    "        "
   ]
  },
  {
   "cell_type": "markdown",
   "metadata": {},
   "source": [
    "# 三、构建并运行系统\n",
    "\n",
    "## 设定系统参数\n"
   ]
  },
  {
   "cell_type": "code",
   "execution_count": null,
   "metadata": {
    "collapsed": true
   },
   "outputs": [],
   "source": [
    "#账户参数\n",
    "init_cash = 100000 #账户初始资金\n",
    "init_date = Datetime('1990-1-1') #账户建立日期\n",
    "\n",
    "#信号指示器参数\n",
    "week_n1 = 12\n",
    "week_n2 = 26\n",
    "week_n3 = 9\n",
    "day_n = 20\n",
    "\n",
    "#选定标的，及测试区间\n",
    "stk = sm['sz000001']\n",
    "start_date = Datetime('2017-01-01')  #如果是同一级别K线，可以使用索引号，使用了不同级别的K线数据，建议还是使用日期作为参数\n",
    "end_date = Datetime()"
   ]
  },
  {
   "cell_type": "markdown",
   "metadata": {},
   "source": [
    "## 构建系统实例"
   ]
  },
  {
   "cell_type": "code",
   "execution_count": null,
   "metadata": {
    "collapsed": false
   },
   "outputs": [],
   "source": [
    "#创建账户\n",
    "my_tm = crtTM(datetime=init_date, initCash = init_cash)\n",
    "\n",
    "#创建系统实例\n",
    "my_sys = SYS_Simple()\n",
    "\n",
    "#绑定账户\n",
    "my_sys.tm = my_tm\n",
    "\n",
    "#绑定信号指示器\n",
    "my_sys.sg = crtSG(DEMO_SG, \n",
    "              {'week_macd_n1': week_n1, 'week_macd_n2': week_n2, 'week_macd_n3': week_n3, 'day_n': day_n}, \n",
    "                'DEMO_SG') \n",
    "\n",
    "#绑定资金管理策略\n",
    "my_sys.mm = DEMO_MM()"
   ]
  },
  {
   "cell_type": "markdown",
   "metadata": {},
   "source": [
    "## 运行系统"
   ]
  },
  {
   "cell_type": "code",
   "execution_count": null,
   "metadata": {
    "collapsed": false
   },
   "outputs": [],
   "source": [
    "q = QueryByDate(start_date, end_date, kType=Query.DAY)\n",
    "my_sys.run(stk, q)\n",
    "\n",
    "#将交易记录及持仓情况，保存在临时目录，可用Excel查看\n",
    "#临时目录一般设置在数据所在目录下的 tmp 子目录\n",
    "#如果打开了excel记录，再次运行系统前，记得先关闭excel文件，否则新的结果没法保存\n",
    "my_tm.tocsv(sm.tmpdir())"
   ]
  },
  {
   "cell_type": "markdown",
   "metadata": {},
   "source": [
    "# 四、查看资金曲线及绩效统计"
   ]
  },
  {
   "cell_type": "code",
   "execution_count": null,
   "metadata": {
    "collapsed": false
   },
   "outputs": [],
   "source": [
    "#绘制资金收益曲线（净收益）\n",
    "x = my_tm.getProfitCurve(stk.getDatetimeList(q), KQuery.DAY)\n",
    "#x = my_tm.getFundsCurve(stk.getDatetimeList(q), KQuery.DAY) #总资产曲线\n",
    "x = PRICELIST(x)\n",
    "x.plot()"
   ]
  },
  {
   "cell_type": "code",
   "execution_count": null,
   "metadata": {
    "collapsed": false
   },
   "outputs": [],
   "source": [
    "#回测统计\n",
    "per = Performance()\n",
    "print(per.report(my_tm, Datetime.now()))"
   ]
  },
  {
   "cell_type": "markdown",
   "metadata": {},
   "source": [
    "# 五、或许想看下图形"
   ]
  },
  {
   "cell_type": "code",
   "execution_count": null,
   "metadata": {
    "collapsed": false
   },
   "outputs": [],
   "source": [
    "my_sys.plot()\n",
    "MA(CLOSE(my_sys.getTO()), 20).plot(new=False)"
   ]
  },
  {
   "cell_type": "markdown",
   "metadata": {},
   "source": [
    "# 六、或许想看看所有股票的情况"
   ]
  },
  {
   "cell_type": "code",
   "execution_count": null,
   "metadata": {
    "collapsed": false
   },
   "outputs": [],
   "source": [
    "import pandas as pd\n",
    "def calTotal(blk, q):\n",
    "    per = Performance()\n",
    "    s_name = []\n",
    "    s_code = []\n",
    "    x = []\n",
    "    for stk in blk:\n",
    "        my_sys.run(stk, q)\n",
    "        per.statistics(my_tm, Datetime.now())\n",
    "        s_name.append(stk.name)\n",
    "        s_code.append(stk.market_code)\n",
    "        x.append(per.get(\"当前总资产\".encode('gb2312')))\n",
    "    return pd.DataFrame({'代码': s_code, '股票': s_name, '当前总资产': x})\n",
    "\n",
    "%time data = calTotal(blocka, q)"
   ]
  },
  {
   "cell_type": "code",
   "execution_count": null,
   "metadata": {
    "collapsed": false
   },
   "outputs": [],
   "source": [
    "#保存到CSV文件\n",
    "#data.to_csv(sm.tmpdir() + '/统计.csv')\n",
    "data[:10]"
   ]
  },
  {
   "cell_type": "code",
   "execution_count": null,
   "metadata": {
    "collapsed": true
   },
   "outputs": [],
   "source": []
  }
 ],
 "metadata": {
  "kernelspec": {
   "display_name": "Python 3",
   "language": "python",
   "name": "python3"
  },
  "language_info": {
   "codemirror_mode": {
    "name": "ipython",
    "version": 3
   },
   "file_extension": ".py",
   "mimetype": "text/x-python",
   "name": "python",
   "nbconvert_exporter": "python",
   "pygments_lexer": "ipython3",
   "version": "3.6.0"
  }
 },
 "nbformat": 4,
 "nbformat_minor": 2
}
