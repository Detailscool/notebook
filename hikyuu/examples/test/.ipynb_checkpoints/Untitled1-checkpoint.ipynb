{
 "cells": [
  {
   "cell_type": "code",
   "execution_count": null,
   "metadata": {
    "collapsed": true
   },
   "outputs": [],
   "source": [
    "import tushare as ts\n",
    "ts.get_today_all()\n",
    "ts.get_hist_data('000875')\n",
    "\n",
    "df = ts.get_hist_data('000875')\n",
    "df.to_hdf('c:/day/hdf.h5','000875')\n",
    "df = ts.get_hist_data('000875')\n",
    "store = HDFStore('c:/stock/day/store.h5')\n",
    "store['000875'] = df\n",
    "store.close()\n",
    "df = ts.get_hist_data('000875')\n",
    "store = HDFStore('c:/stock/day/store.h5')\n",
    "store['000875'] = df\n",
    "store.close()"
   ]
  }
 ],
 "metadata": {
  "kernelspec": {
   "display_name": "Python 3",
   "language": "python",
   "name": "python3"
  }
 },
 "nbformat": 4,
 "nbformat_minor": 2
}
