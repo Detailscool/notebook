{
 "cells": [
  {
   "cell_type": "code",
   "execution_count": null,
   "metadata": {
    "collapsed": true
   },
   "outputs": [],
   "source": [
    "import psycopg2 #使用的是PostgreSQL数据库\n",
    "import tushare as ts\n",
    "from Stocks import*\n",
    "from HData import*\n",
    "import  datetime\n",
    "\n",
    "stocks=Stocks(\"postgres\",\"123456\")\n",
    "hdata=HData(\"postgres\",\"123456\")\n",
    "\n",
    "# stocks.db_stocks_create()#如果还没有表则需要创建\n",
    "#print(stocks.db_stocks_update())#根据todayall的情况更新stocks表\n",
    "\n",
    "#hdata.db_hdata_date_create()\n",
    "\n",
    "nowdate=datetime.datetime.now().date()\n",
    "\n",
    "codestock_local=stocks.get_codestock_local()\n",
    "\n",
    "hdata.db_connect()#由于每次连接数据库都要耗时0.0几秒，故获取历史数据时统一连接\n",
    "for i in range(0,len(codestock_local)):\n",
    "    nowcode=codestock_local[i][0]\n",
    "\n",
    "    #print(hdata.get_all_hdata_of_stock(nowcode))\n",
    "\n",
    "    print(i,nowcode,codestock_local[i][1])\n",
    "\n",
    "    maxdate=hdata.db_get_maxdate_of_stock(nowcode)\n",
    "    print(maxdate, nowdate)\n",
    "    if(maxdate):\n",
    "        if(maxdate>=nowdate):#maxdate小的时候说明还有最新的数据没放进去\n",
    "            continue\n",
    "        hist_data=ts.get_hist_data(nowcode, str(maxdate+datetime.timedelta(1)),str(nowdate), 'D', 3, 0.001)\n",
    "        hdata.insert_perstock_hdatadate(nowcode, hist_data)\n",
    "    else:#说明从未获取过这只股票的历史数据\n",
    "        hist_data = ts.get_hist_data(nowcode, None, str(nowdate), 'D', 3, 0.001)\n",
    "        hdata.insert_perstock_hdatadate(nowcode, hist_data)\n",
    "\n",
    "hdata.db_disconnect()"
   ]
  }
 ],
 "metadata": {
  "kernelspec": {
   "display_name": "Python 3",
   "language": "python",
   "name": "python3"
  },
  "language_info": {
   "codemirror_mode": {
    "name": "ipython",
    "version": 3
   },
   "file_extension": ".py",
   "mimetype": "text/x-python",
   "name": "python",
   "nbconvert_exporter": "python",
   "pygments_lexer": "ipython3",
   "version": "3.6.0"
  }
 },
 "nbformat": 4,
 "nbformat_minor": 2
}
