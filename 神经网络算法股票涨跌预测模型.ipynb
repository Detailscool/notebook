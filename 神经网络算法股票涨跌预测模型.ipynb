{
 "cells": [
  {
   "cell_type": "markdown",
   "metadata": {},
   "source": [
    "# 用于算法交易的神经网络——正确的时间序列预测和回测\n",
    "我想展示如何用不同的方法来归一化数据，并且讨论更多的过拟合相关问题。"
   ]
  },
  {
   "cell_type": "code",
   "execution_count": 1,
   "metadata": {},
   "outputs": [],
   "source": [
    "import QUANTAXIS as QA\n",
    "#import tushare as TU\n",
    "#import rqalpha as RQ\n",
    "#import funcat as FA\n",
    "#import tensorflow as TF\n",
    "#import numpy as np\n",
    "#import pandas as pd\n",
    "import time\n",
    "import datetime\n",
    "#import pp\n",
    "#job = job_server.submit(function, (paras,), (called-functions,), (imports,))\n",
    "#ppservers = ()\n",
    "#job_server = pp.Server(ppservers=ppservers)\n",
    "#job_server.get_ncpus()\n",
    "#8\n",
    "\n",
    "#job_server = pp.Server() \n",
    "\n",
    "#ncpus = 2 #可以自己指定使用的核心数\n",
    "#job_server = pp.Server(ncpus) #创建服务\n",
    "#默认为使用全部核心\n",
    "\n",
    "#start_data = '1990-01-01' #数据准备\n",
    "#start = '2018-12-28'#开始时间\n",
    "#end = '2018-12-28'#结束时间\n",
    "# 获取全市场的股票代码信息列表\n",
    "QA_code_list = QA.QA_fetch_stock_list_adv()\n",
    "#QA_code_list\n",
    "#QA全市场code列表\n",
    "QA_code = QA_code_list.code.tolist() \n",
    "#QA_code\n",
    "#QA全市场name列表\n",
    "QA_name = QA_code_list.name.tolist() \n",
    "#QA_name \n"
   ]
  },
  {
   "cell_type": "code",
   "execution_count": 2,
   "metadata": {},
   "outputs": [
    {
     "name": "stderr",
     "output_type": "stream",
     "text": [
      "Using TensorFlow backend.\n"
     ]
    }
   ],
   "source": [
    "import matplotlib.pylab as plt\n",
    "import seaborn as sns\n",
    "sns.despine()\n",
    "\n",
    "from keras.models import Sequential\n",
    "from keras.layers.core import Dense, Dropout, Activation, Flatten\n",
    "from keras.layers.normalization import BatchNormalization\n",
    "from keras.layers import merge\n",
    "from keras.callbacks import ModelCheckpoint, ReduceLROnPlateau, CSVLogger, EarlyStopping\n",
    "from keras.optimizers import RMSprop, Adam, SGD, Nadam\n",
    "from keras.layers.advanced_activations import *\n",
    "from keras.layers import Convolution1D, MaxPooling1D, AtrousConvolution1D\n",
    "from keras.layers.recurrent import LSTM, GRU\n",
    "from keras import regularizers\n",
    "\n",
    "import theano\n",
    "theano.config.compute_test_value = \"ignore\"\n",
    "from sklearn.model_selection import KFold\n",
    "from sklearn.model_selection import train_test_split\n",
    "#from sklearn.cross_validation import train_test_split\n",
    "\n",
    "import pandas as pd\n",
    "import numpy as np"
   ]
  },
  {
   "cell_type": "markdown",
   "metadata": {},
   "source": [
    "## 数据准备\n",
    "让我们来看看茅台公司（600519.SHA）从2010年至今的股价的时间序列。\n",
    "\n",
    "金融时间序列分析的最大问题是——他们不是静止的，这意味着其统计特性（平均值、方程、最值）都会随着时间的推移而发生变化，并且我们可以通过[扩张的迪基-福勒检定(Augmented Dickey–Fuller test)](https://zh.wikipedia.org/wiki/%E6%93%B4%E5%BC%B5%E7%9A%84Dickey-Fuller%E6%AA%A2%E5%AE%9A)来检验它。这样一来，我们就不能使用经典的数据归一化方法，比如最大最小值法等了。\n",
    "\n",
    "在我们的例子中，我对于分类问题稍微做了点弊。我们不需要预测到确切的价格，所以未来的预期价值和方差对于我们来说不那么重要——我们只需要预测上下波动。这就是为什么我们可以冒险通过均值和方差（标准值化）来讲归一化我们的30天时间窗口。我们可以假设在同一个时间窗口中这些值并不会改变太多，而且不会触及到未来的变化。\n",
    "\n",
    "\n",
    "```python\n",
    "X = [(np.array(x) — np.mean(x)) / np.std(x) for x in X]\n",
    "```"
   ]
  },
  {
   "cell_type": "code",
   "execution_count": 3,
   "metadata": {},
   "outputs": [],
   "source": [
    "def shuffle_in_unison(a, b):\n",
    "    # courtsey http://stackoverflow.com/users/190280/josh-bleecher-snyder\n",
    "    assert len(a) == len(b)\n",
    "    shuffled_a = np.empty(a.shape, dtype=a.dtype)\n",
    "    shuffled_b = np.empty(b.shape, dtype=b.dtype)\n",
    "    permutation = np.random.permutation(len(a))\n",
    "    for old_index, new_index in enumerate(permutation):\n",
    "        shuffled_a[new_index] = a[old_index]\n",
    "        shuffled_b[new_index] = b[old_index]\n",
    "    return shuffled_a, shuffled_b\n",
    "\n",
    "# 将数据的前90%作为训练集，后10%作为测试集\n",
    "def create_Xt_Yt(X, y, percentage=0.9):\n",
    "    p = int(len(X) * percentage)\n",
    "    X_train = X[0:p]\n",
    "    Y_train = y[0:p]\n",
    "     \n",
    "    X_train, Y_train = shuffle_in_unison(X_train, Y_train)\n",
    " \n",
    "    X_test = X[p:]\n",
    "    Y_test = y[p:]\n",
    "\n",
    "    return X_train, X_test, Y_train, Y_test"
   ]
  },
  {
   "cell_type": "code",
   "execution_count": 5,
   "metadata": {},
   "outputs": [
    {
     "name": "stdout",
     "output_type": "stream",
     "text": [
      "                        open       high        low      close        volume  \\\n",
      "date       code                                                               \n",
      "2015-06-01 000001  12.587780  13.121509  12.472823  13.055819  2.628556e+06   \n",
      "           000002  13.352648  13.872640  13.231936  13.816926  3.338944e+06   \n",
      "           000004  34.000000  36.990000  34.000000  36.150000  3.959900e+04   \n",
      "           000005  15.180000  15.490000  14.610000  14.850000  1.257794e+06   \n",
      "           000006  15.769509  16.677599  15.749981  16.326080  9.773563e+05   \n",
      "\n",
      "                         amount  preclose       adj  \n",
      "date       code                                      \n",
      "2015-06-01 000001  3.365459e+09       NaN  0.821121  \n",
      "           000002  4.532477e+09       NaN  0.928557  \n",
      "           000004  1.411080e+08       NaN  1.000000  \n",
      "           000005  1.880635e+09       NaN  1.000000  \n",
      "           000006  1.592801e+09       NaN  0.976440  \n"
     ]
    },
    {
     "data": {
      "text/plain": [
       "<Figure size 432x288 with 0 Axes>"
      ]
     },
     "metadata": {},
     "output_type": "display_data"
    },
    {
     "data": {
      "image/png": "[encoded data removed]",
      "text/plain": [
       "<Figure size 432x288 with 1 Axes>"
      ]
     },
     "metadata": {},
     "output_type": "display_data"
    },
    {
     "name": "stderr",
     "output_type": "stream",
     "text": [
      "/Volumes/QuantOsUSB/QuantOsUSB/kivy.app/Contents/Resources/venv/lib/python3.6/site-packages/ipykernel_launcher.py:25: DeprecationWarning: \n",
      ".ix is deprecated. Please use\n",
      ".loc for label based indexing or\n",
      ".iloc for positional indexing\n",
      "\n",
      "See the documentation here:\n",
      "http://pandas.pydata.org/pandas-docs/stable/indexing.html#ix-indexer-is-deprecated\n"
     ]
    },
    {
     "name": "stdout",
     "output_type": "stream",
     "text": [
      "list index out of range\n"
     ]
    }
   ],
   "source": [
    "#训练起始时间\n",
    "start_date='2015-06-01'\n",
    "end_date='2017-06-01'\n",
    "#inst = D.instruments(start_date, end_date, market='CN_STOCK_A')\n",
    "#print(inst)\n",
    "\n",
    "#instruments = ['600519']\n",
    "instruments = QA_code\n",
    "\n",
    "#hist = D.history_data(instruments, start_date, end_date, fields=['close'])\n",
    "#全市场前复权计算\n",
    "hists = QA.QA_fetch_stock_day_adv(instruments, start_date, end_date).to_qfq().data\n",
    "hist = hists\n",
    "#print(hist.head())\n",
    "print(hist.head())\n",
    "\n",
    "#plt.plot(hist['date'], hist['close'])\n",
    "hist.plot()\n",
    "#plt.figure(figsize=(20,20)) #图表长宽量 16，16\n",
    "#plt.grid(True)\n",
    "#plt.plot()\n",
    "plt.show()\n",
    "\n",
    "# 转化为时间序列数据\n",
    "hist = hist.ix[:, 'close'].tolist()\n",
    "\n",
    "WINDOW = 30\n",
    "EMB_SIZE = 1\n",
    "STEP = 1\n",
    "FORECAST = 1\n",
    "\n",
    "# Straightforward way for creating time windows 创建时间窗口的简单方法\n",
    "X, Y = [], []\n",
    "for i in range(0, len(hist), STEP): \n",
    "    try:\n",
    "        x_i = hist[i:i+WINDOW]\n",
    "        y_i = hist[i+WINDOW+FORECAST]  \n",
    "\n",
    "        last_close = x_i[WINDOW-1]\n",
    "        next_close = y_i\n",
    "\n",
    "        if last_close < next_close:\n",
    "            y_i = [1, 0]\n",
    "        else:\n",
    "            y_i = [0, 1] \n",
    "\n",
    "    except Exception as e:\n",
    "        print(e)\n",
    "        break\n",
    "\n",
    "    X.append(x_i)\n",
    "    Y.append(y_i)\n",
    "\n",
    "X = [(np.array(x) - np.mean(x)) / np.std(x) for x in X] # comment it to remove normalization 注释它以删除规范化\n",
    "X, Y = np.array(X), np.array(Y)\n",
    "\n",
    "X_train, X_test, Y_train, Y_test = create_Xt_Yt(X, Y)\n",
    "X_train, X_test, Y_train, Y_test = train_test_split(X, Y)"
   ]
  },
  {
   "cell_type": "markdown",
   "metadata": {},
   "source": [
    "## 神经网络结构\n",
    "如前所述，我在本文中将只会使用多层感知机算法（MLP）来分析。因为我想展示神经网络是多么容易在金融数据分析中发生过拟合现象，以及如防止它们。想要在卷积神经网络 (RNN) 和递归神经网络 (RNN) 中扩展这些想法是相对容易的，理解这些概念更加重要。和以前一样，我们采用 Keras 架构作为神经网络模型的主要框架。\n",
    "\n",
    "我建议在每一个仿射层或卷积层后面使用批量归一化 (BatchNormalization) 并且利用  ReLU 作为激活函数。因为这个已经成为了“行业标准”——它们能够有助于更快地训练神经网络。另外一个值得注意的是我们可以在训练中降低学习率。 Keras 上可以利用 **ReduceLROnPlateau()** 函数实现这一要求。\n",
    "\n",
    "我们利用 L2 范数和 Dropout 来防止过拟合现象。"
   ]
  },
  {
   "cell_type": "code",
   "execution_count": 6,
   "metadata": {},
   "outputs": [],
   "source": [
    "model = Sequential()\n",
    "model.add(Dense(64, input_dim=WINDOW,\n",
    "                activity_regularizer=regularizers.l2(0.01)))\n",
    "model.add(BatchNormalization())\n",
    "model.add(LeakyReLU())\n",
    "# 加入 Dropout 防止过拟合\n",
    "model.add(Dropout(0.5))\n",
    "model.add(Dense(16, activity_regularizer=regularizers.l2(0.01)))\n",
    "model.add(BatchNormalization())\n",
    "model.add(LeakyReLU())\n",
    "model.add(Dense(2))\n",
    "model.add(Activation('softmax'))\n",
    "\n",
    "opt = Nadam(lr=0.001)\n",
    "\n",
    "reduce_lr = ReduceLROnPlateau(monitor='val_acc', factor=0.9, patience=25, min_lr=0.000001, verbose=1)\n",
    "checkpointer = ModelCheckpoint(filepath=\"test.hdf5\", verbose=1, save_best_only=True)\n",
    "early_stopper = EarlyStopping(monitor='val_loss', min_delta=0.05, patience=20, verbose=0, mode='auto')\n",
    "model.compile(optimizer=opt, \n",
    "              loss='categorical_crossentropy',\n",
    "              metrics=['accuracy'])"
   ]
  },
  {
   "cell_type": "code",
   "execution_count": 11,
   "metadata": {},
   "outputs": [
    {
     "name": "stderr",
     "output_type": "stream",
     "text": [
      "/Volumes/QuantOsUSB/QuantOsUSB/kivy.app/Contents/Resources/venv/lib/python3.6/site-packages/ipykernel_launcher.py:2: UserWarning: The `nb_epoch` argument in `fit` has been renamed `epochs`.\n",
      "  \n"
     ]
    },
    {
     "name": "stdout",
     "output_type": "stream",
     "text": [
      "Train on 948324 samples, validate on 316108 samples\n",
      "Epoch 1/100\n",
      "948324/948324 [==============================] - 32s 33us/step - loss: 1.6477 - acc: 0.6997 - val_loss: 0.5937 - val_acc: 0.7163\n",
      "\n",
      "Epoch 00001: val_loss improved from inf to 0.59373, saving model to test.hdf5\n",
      "Epoch 2/100\n",
      "948324/948324 [==============================] - 29s 30us/step - loss: 0.5975 - acc: 0.7101 - val_loss: 0.5778 - val_acc: 0.7210\n",
      "\n",
      "Epoch 00002: val_loss improved from 0.59373 to 0.57783, saving model to test.hdf5\n",
      "Epoch 3/100\n",
      "948324/948324 [==============================] - 29s 31us/step - loss: 0.5876 - acc: 0.7119 - val_loss: 0.5727 - val_acc: 0.7202\n",
      "\n",
      "Epoch 00003: val_loss improved from 0.57783 to 0.57273, saving model to test.hdf5\n",
      "Epoch 4/100\n",
      "948324/948324 [==============================] - 30s 31us/step - loss: 0.5861 - acc: 0.7121 - val_loss: 0.5730 - val_acc: 0.7219\n",
      "\n",
      "Epoch 00004: val_loss did not improve from 0.57273\n",
      "Epoch 5/100\n",
      "948324/948324 [==============================] - 30s 32us/step - loss: 0.5861 - acc: 0.7117 - val_loss: 0.5680 - val_acc: 0.7265\n",
      "\n",
      "Epoch 00005: val_loss improved from 0.57273 to 0.56803, saving model to test.hdf5\n",
      "Epoch 6/100\n",
      "948324/948324 [==============================] - 30s 31us/step - loss: 0.5856 - acc: 0.7121 - val_loss: 0.5730 - val_acc: 0.7210\n",
      "\n",
      "Epoch 00006: val_loss did not improve from 0.56803\n",
      "Epoch 7/100\n",
      "948324/948324 [==============================] - 31s 32us/step - loss: 0.5860 - acc: 0.7120 - val_loss: 0.5783 - val_acc: 0.7152\n",
      "\n",
      "Epoch 00007: val_loss did not improve from 0.56803\n",
      "Epoch 8/100\n",
      "948324/948324 [==============================] - 30s 32us/step - loss: 0.5860 - acc: 0.7116 - val_loss: 0.5728 - val_acc: 0.7181\n",
      "\n",
      "Epoch 00008: val_loss did not improve from 0.56803\n",
      "Epoch 9/100\n",
      "948324/948324 [==============================] - 31s 33us/step - loss: 0.5859 - acc: 0.7119 - val_loss: 0.5715 - val_acc: 0.7244\n",
      "\n",
      "Epoch 00009: val_loss did not improve from 0.56803\n",
      "Epoch 10/100\n",
      "948324/948324 [==============================] - 32s 34us/step - loss: 0.5862 - acc: 0.7118 - val_loss: 0.5717 - val_acc: 0.7216\n",
      "\n",
      "Epoch 00010: val_loss did not improve from 0.56803\n",
      "Epoch 11/100\n",
      "948324/948324 [==============================] - 32s 34us/step - loss: 0.5860 - acc: 0.7117 - val_loss: 0.5740 - val_acc: 0.7251\n",
      "\n",
      "Epoch 00011: val_loss did not improve from 0.56803\n",
      "Epoch 12/100\n",
      "948324/948324 [==============================] - 33s 34us/step - loss: 0.5859 - acc: 0.7118 - val_loss: 0.5762 - val_acc: 0.7195\n",
      "\n",
      "Epoch 00012: val_loss did not improve from 0.56803\n",
      "Epoch 13/100\n",
      "948324/948324 [==============================] - 32s 33us/step - loss: 0.5862 - acc: 0.7114 - val_loss: 0.5747 - val_acc: 0.7222\n",
      "\n",
      "Epoch 00013: val_loss did not improve from 0.56803\n",
      "Epoch 14/100\n",
      "948324/948324 [==============================] - 31s 33us/step - loss: 0.5859 - acc: 0.7113 - val_loss: 0.5711 - val_acc: 0.7230\n",
      "\n",
      "Epoch 00014: val_loss did not improve from 0.56803\n",
      "Epoch 15/100\n",
      "948324/948324 [==============================] - 31s 33us/step - loss: 0.5859 - acc: 0.7119 - val_loss: 0.5718 - val_acc: 0.7233\n",
      "\n",
      "Epoch 00015: val_loss did not improve from 0.56803\n",
      "Epoch 16/100\n",
      "948324/948324 [==============================] - 31s 33us/step - loss: 0.5860 - acc: 0.7119 - val_loss: 0.5726 - val_acc: 0.7216\n",
      "\n",
      "Epoch 00016: val_loss did not improve from 0.56803\n",
      "Epoch 17/100\n",
      "948324/948324 [==============================] - 32s 34us/step - loss: 0.5856 - acc: 0.7124 - val_loss: 0.5766 - val_acc: 0.7219\n",
      "\n",
      "Epoch 00017: val_loss did not improve from 0.56803\n",
      "Epoch 18/100\n",
      "948324/948324 [==============================] - 32s 34us/step - loss: 0.5863 - acc: 0.7114 - val_loss: 0.5721 - val_acc: 0.7237\n",
      "\n",
      "Epoch 00018: val_loss did not improve from 0.56803\n",
      "Epoch 19/100\n",
      "948324/948324 [==============================] - 33s 35us/step - loss: 0.5860 - acc: 0.7119 - val_loss: 0.5750 - val_acc: 0.7211\n",
      "\n",
      "Epoch 00019: val_loss did not improve from 0.56803\n",
      "Epoch 20/100\n",
      "948324/948324 [==============================] - 31s 33us/step - loss: 0.5860 - acc: 0.7119 - val_loss: 0.5748 - val_acc: 0.7209\n",
      "\n",
      "Epoch 00020: val_loss did not improve from 0.56803\n",
      "Epoch 21/100\n",
      "948324/948324 [==============================] - 32s 33us/step - loss: 0.5858 - acc: 0.7114 - val_loss: 0.5752 - val_acc: 0.7221\n",
      "\n",
      "Epoch 00021: val_loss did not improve from 0.56803\n"
     ]
    }
   ],
   "source": [
    "# Train model 火车模型#历史 模型配合#X队列 Y队列#迭代次数#群子节#啰嗦 #确认_数据#回收 减少#检查点#初期 制止\n",
    "history = model.fit\\\n",
    "(X_train, Y_train, \\\n",
    " nb_epoch = 100, \\\n",
    " batch_size = 128, \\\n",
    " verbose=1, \\\n",
    " validation_data=(X_test, Y_test), \\\n",
    " shuffle=True, \\\n",
    " callbacks=[reduce_lr, \\\n",
    "            checkpointer, \\\n",
    "            early_stopper]) "
   ]
  },
  {
   "cell_type": "code",
   "execution_count": 12,
   "metadata": {},
   "outputs": [
    {
     "data": {
      "image/png": "[encoded data removed]",
      "text/plain": [
       "<Figure size 720x720 with 1 Axes>"
      ]
     },
     "metadata": {},
     "output_type": "display_data"
    }
   ],
   "source": [
    "# Visualization of loss 可视化的损失\n",
    "plt.figure(figsize=(10,10)) #图表长宽量 16，16\n",
    "plt.grid(True)\n",
    "plt.plot(history.history['loss']) \n",
    "plt.plot(history.history['val_loss']) \n",
    "plt.title('model loss') #模型损失 \n",
    "plt.ylabel('loss') #失利 \n",
    "plt.xlabel('epoch') #时代\n",
    "plt.legend(['train', 'test'], loc='best') #培养 测试 最好\n",
    "\n",
    "plt.show()"
   ]
  },
  {
   "cell_type": "code",
   "execution_count": 13,
   "metadata": {},
   "outputs": [
    {
     "data": {
      "image/png": "[encoded data removed]",
      "text/plain": [
       "<Figure size 720x720 with 1 Axes>"
      ]
     },
     "metadata": {},
     "output_type": "display_data"
    }
   ],
   "source": [
    "# Visualization of Accuracy 可视化的准确性\n",
    "plt.figure(figsize=(10,10)) #图表长宽量 16，16\n",
    "plt.grid(True)\n",
    "plt.plot(history.history['acc']) \n",
    "plt.plot(history.history['val_acc'])\n",
    "plt.title('model accuracy') #模型准确性\n",
    "plt.ylabel('accuracy') #准确性\n",
    "plt.xlabel('epoch') #时代\n",
    "plt.legend(['train', 'test'], loc='best') #培养 测试 最好\n",
    "plt.show()"
   ]
  },
  {
   "cell_type": "markdown",
   "metadata": {},
   "source": [
    "## 回测\n",
    "测试的策略相对比较简单。\n",
    "若预测为上涨，则满仓，否则空仓。"
   ]
  },
  {
   "cell_type": "code",
   "execution_count": 19,
   "metadata": {},
   "outputs": [],
   "source": [
    "# 1. 策略基本参数\n",
    "\n",
    "# 回测起始时间\n",
    "start_date_2 = '2017-06-01'\n",
    "# 回测结束时间\n",
    "end_date_2 = '2019-02-27'\n",
    "# 策略比较参考标准，以沪深300为例\n",
    "benchmark = '000300.INDX'\n",
    "# 证券池 以贵州茅台为例\n",
    "# instruments = ['000030.SZA']\n",
    "# 起始资金\n",
    "capital_base = 100000\n",
    "\n",
    "\n"
   ]
  },
  {
   "cell_type": "code",
   "execution_count": 20,
   "metadata": {},
   "outputs": [],
   "source": [
    "# 2. 策略主体函数\n",
    "\n",
    "# 初始化虚拟账户状态，只在第一个交易日运行\n",
    "def initialize(context):\n",
    "    # 设置手续费，买入时万3，卖出是千分之1.3,不足5元以5元计\n",
    "    context.set_commission(PerOrder(buy_cost=0.0003, sell_cost=0.0013, min_cost=5))\n",
    "\n",
    "# 策略交易逻辑，每个交易日运行一次\n",
    "def handle_data(context, data):\n",
    "    # 在这里添加策略代码\n",
    "    for instrument in instruments:\n",
    "        # 字符型股票代码转化成 BigQuant回测引擎所需的股票代码\n",
    "        instrument = context.symbol(instrument)\n",
    "        history = data.history(instrument, 'close', 30, '1d').tolist()\n",
    "        norm_hist = [(np.array(history) - np.mean(history)) / np.std(history)]\n",
    "        prediction = model.predict(np.asarray(norm_hist))[0]\n",
    "        \n",
    "        print(prediction)\n",
    "        \n",
    "        if  np.argmax(prediction) == 0 and data.can_trade(instrument):\n",
    "            order_target_percent(instrument, 1)\n",
    "        elif np.argmax(prediction) == 1 and data.can_trade(instrument):\n",
    "            order_target_percent(instrument, 0)\n",
    "\n"
   ]
  },
  {
   "cell_type": "code",
   "execution_count": 21,
   "metadata": {},
   "outputs": [
    {
     "ename": "NameError",
     "evalue": "name 'M' is not defined",
     "output_type": "error",
     "traceback": [
      "\u001b[0;31m---------------------------------------------------------------------------\u001b[0m",
      "\u001b[0;31mNameError\u001b[0m                                 Traceback (most recent call last)",
      "\u001b[0;32m<ipython-input-21-889876bbc854>\u001b[0m in \u001b[0;36m<module>\u001b[0;34m()\u001b[0m\n\u001b[1;32m      2\u001b[0m \u001b[0;34m\u001b[0m\u001b[0m\n\u001b[1;32m      3\u001b[0m \u001b[0;31m# 策略回测接口: https://bigquant.com/docs/module_trade.html\u001b[0m\u001b[0;34m\u001b[0m\u001b[0;34m\u001b[0m\u001b[0m\n\u001b[0;32m----> 4\u001b[0;31m m = M.trade.v1(\n\u001b[0m\u001b[1;32m      5\u001b[0m     \u001b[0minstruments\u001b[0m\u001b[0;34m=\u001b[0m\u001b[0minstruments\u001b[0m\u001b[0;34m,\u001b[0m\u001b[0;34m\u001b[0m\u001b[0m\n\u001b[1;32m      6\u001b[0m     \u001b[0mstart_date\u001b[0m\u001b[0;34m=\u001b[0m\u001b[0mstart_date_2\u001b[0m\u001b[0;34m,\u001b[0m\u001b[0;34m\u001b[0m\u001b[0m\n",
      "\u001b[0;31mNameError\u001b[0m: name 'M' is not defined"
     ]
    }
   ],
   "source": [
    "# 3. 启动回测\n",
    "\n",
    "# 策略回测接口: https://bigquant.com/docs/module_trade.html\n",
    "m = M.trade.v1(\n",
    "    instruments=instruments,\n",
    "    start_date=start_date_2,\n",
    "    end_date=end_date_2,\n",
    "    initialize=initialize,\n",
    "    handle_data=handle_data,\n",
    "    # 买入订单以开盘价成交\n",
    "    order_price_field_buy='open',\n",
    "    # 卖出订单以开盘价成交\n",
    "    order_price_field_sell='open',\n",
    "    capital_base=capital_base,\n",
    "    benchmark=benchmark,\n",
    ")\n",
    "\n"
   ]
  },
  {
   "cell_type": "code",
   "execution_count": 21,
   "metadata": {},
   "outputs": [
    {
     "ename": "NameError",
     "evalue": "name 'risk_analyze' is not defined",
     "output_type": "error",
     "traceback": [
      "\u001b[0;31m---------------------------------------------------------------------------\u001b[0m",
      "\u001b[0;31mNameError\u001b[0m                                 Traceback (most recent call last)",
      "\u001b[0;32m<ipython-input-21-c450782b01ee>\u001b[0m in \u001b[0;36m<module>\u001b[0;34m()\u001b[0m\n\u001b[1;32m      1\u001b[0m \u001b[0;31m# 调用风险分析\u001b[0m\u001b[0;34m\u001b[0m\u001b[0;34m\u001b[0m\u001b[0m\n\u001b[0;32m----> 2\u001b[0;31m \u001b[0mrisk_analyze\u001b[0m\u001b[0;34m(\u001b[0m\u001b[0;34m)\u001b[0m\u001b[0;34m\u001b[0m\u001b[0m\n\u001b[0m",
      "\u001b[0;31mNameError\u001b[0m: name 'risk_analyze' is not defined"
     ]
    }
   ],
   "source": [
    "# 调用风险分析\n",
    "m.risk_analyze()  "
   ]
  },
  {
   "cell_type": "code",
   "execution_count": null,
   "metadata": {},
   "outputs": [],
   "source": []
  }
 ],
 "metadata": {
  "kernelspec": {
   "display_name": "Python 3",
   "language": "python",
   "name": "python3"
  },
  "language_info": {
   "codemirror_mode": {
    "name": "ipython",
    "version": 3
   },
   "file_extension": ".py",
   "mimetype": "text/x-python",
   "name": "python",
   "nbconvert_exporter": "python",
   "pygments_lexer": "ipython3",
   "version": "3.6.5"
  }
 },
 "nbformat": 4,
 "nbformat_minor": 2
}
