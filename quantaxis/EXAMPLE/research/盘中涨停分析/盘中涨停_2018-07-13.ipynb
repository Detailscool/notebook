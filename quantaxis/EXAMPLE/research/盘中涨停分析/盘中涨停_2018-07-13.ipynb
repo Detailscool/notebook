{
 "cells": [
  {
   "cell_type": "code",
   "execution_count": 1,
   "metadata": {},
   "outputs": [
    {
     "name": "stderr",
     "output_type": "stream",
     "text": [
      "QUANTAXIS>> Expand macros in /Volumes/QuantOsUSB/QuantOsUSB/kivy.app/Contents/Resources/venv/lib/python3.6/site-packages/macropy/core/hquotes.py\n",
      "QUANTAXIS>> Finding macros in 'macropy.core.hquotes'\n",
      "QUANTAXIS>> Importing macros from 'macropy.core.quotes' into 'macropy.core.hquotes'\n",
      "QUANTAXIS>> Expand macros in /Volumes/QuantOsUSB/QuantOsUSB/kivy.app/Contents/Resources/venv/lib/python3.6/site-packages/macropy/core/quotes.py\n",
      "QUANTAXIS>> Finding macros in 'macropy.core.quotes'\n",
      "QUANTAXIS>> Expand macros in /Volumes/QuantOsUSB/QuantOsUSB/kivy.app/Contents/Resources/venv/lib/python3.6/site-packages/macropy/core/failure.py\n",
      "QUANTAXIS>> Finding macros in 'macropy.core.failure'\n",
      "QUANTAXIS>> Importing macros from 'macropy.core.hquotes' into 'macropy.core.failure'\n"
     ]
    },
    {
     "name": "stdout",
     "output_type": "stream",
     "text": [
      "no module named mssql\n"
     ]
    },
    {
     "name": "stderr",
     "output_type": "stream",
     "text": [
      "QUANTAXIS>> Expand macros in /Volumes/QuantOsUSB/QuantOsUSB/kivy.app/Contents/Resources/venv/lib/python3.6/site-packages/cffi/api.py\n",
      "QUANTAXIS>> Finding macros in 'cffi.api'\n",
      "QUANTAXIS>> Expand macros in /Volumes/QuantOsUSB/QuantOsUSB/kivy.app/Contents/Resources/venv/lib/python3.6/site-packages/scipy/__config__.py\n",
      "QUANTAXIS>> Finding macros in 'scipy.__config__'\n"
     ]
    }
   ],
   "source": [
    "import pandas as pd\n",
    "import QUANTAXIS as QA"
   ]
  },
  {
   "cell_type": "markdown",
   "metadata": {},
   "source": [
    "# 1.获取全市场股票列表"
   ]
  },
  {
   "cell_type": "code",
   "execution_count": 2,
   "metadata": {
    "collapsed": true
   },
   "outputs": [],
   "source": [
    "code=QA.QA_fetch_stock_list_adv().code.tolist()\n",
    "code1=QA.QA_fetch_stock_list_adv().set_index('code')"
   ]
  },
  {
   "cell_type": "markdown",
   "metadata": {},
   "source": [
    "# 2.获取全市场日线+1分钟线+5分钟线"
   ]
  },
  {
   "cell_type": "code",
   "execution_count": null,
   "metadata": {},
   "outputs": [],
   "source": [
    "daydata=QA.QA_fetch_stock_day_adv(code,'2018-07-12','2018-07-13')\n",
    "\n",
    "dailymin_data=QA.QA_fetch_stock_min_adv(code,'2018-07-13','2018-07-14')\n",
    "dailymin5_data=QA.QA_fetch_stock_min_adv(code,'2018-07-13','2018-07-14','5min')"
   ]
  },
  {
   "cell_type": "markdown",
   "metadata": {},
   "source": [
    "# 3.获取全市场版块"
   ]
  },
  {
   "cell_type": "code",
   "execution_count": null,
   "metadata": {
    "collapsed": true
   },
   "outputs": [],
   "source": [
    "block=QA.QA_fetch_stock_block_adv()"
   ]
  },
  {
   "cell_type": "markdown",
   "metadata": {},
   "source": [
    "# 4.查看1分钟线单个bar涨幅超过1.8%的股票"
   ]
  },
  {
   "cell_type": "code",
   "execution_count": null,
   "metadata": {},
   "outputs": [],
   "source": [
    "dailymin_data.fast_moving(0.018)"
   ]
  },
  {
   "cell_type": "markdown",
   "metadata": {},
   "source": [
    "# 5. 查看5分钟线单个bar涨幅超过3%的股票"
   ]
  },
  {
   "cell_type": "code",
   "execution_count": null,
   "metadata": {
    "collapsed": true
   },
   "outputs": [],
   "source": [
    "fast_moving=dailymin5_data.fast_moving(0.03)"
   ]
  },
  {
   "cell_type": "code",
   "execution_count": null,
   "metadata": {
    "collapsed": true
   },
   "outputs": [],
   "source": [
    "fast_moving"
   ]
  },
  {
   "cell_type": "markdown",
   "metadata": {},
   "source": [
    "# 6.涨停分析"
   ]
  },
  {
   "cell_type": "markdown",
   "metadata": {},
   "source": [
    "## 6.1涨停在DataStruct是high_limit (惰性计算)"
   ]
  },
  {
   "cell_type": "code",
   "execution_count": null,
   "metadata": {
    "collapsed": true
   },
   "outputs": [],
   "source": [
    "#涨停\n",
    "\n",
    "high_limit=daydata[daydata.close==daydata.high_limit]"
   ]
  },
  {
   "cell_type": "markdown",
   "metadata": {},
   "source": [
    "## 6.2选择涨停的个股(select_code方法),并选取异动1.8%的股票"
   ]
  },
  {
   "cell_type": "code",
   "execution_count": null,
   "metadata": {
    "collapsed": true
   },
   "outputs": [],
   "source": [
    "data=dailymin_data.select_code(high_limit.code).fast_moving(0.018)"
   ]
  },
  {
   "cell_type": "markdown",
   "metadata": {},
   "source": [
    "## 6.3更换名称"
   ]
  },
  {
   "cell_type": "code",
   "execution_count": null,
   "metadata": {
    "collapsed": true
   },
   "outputs": [],
   "source": [
    "yd=data.reset_index().rename(columns={0:'pct_change'})"
   ]
  },
  {
   "cell_type": "markdown",
   "metadata": {},
   "source": [
    "## 6.4对异动的股票增加股票所属版块名, 股票名"
   ]
  },
  {
   "cell_type": "markdown",
   "metadata": {},
   "source": [
    "datetime是发生异动的时间, code是股票名, pct_change是单个bar的涨幅 block是所属版块 name是股票名称"
   ]
  },
  {
   "cell_type": "code",
   "execution_count": null,
   "metadata": {
    "collapsed": true
   },
   "outputs": [],
   "source": [
    "yd=yd.assign(block=yd.code.apply(lambda x: block.get_code(x).block_name)).assign(name=yd.code.apply(lambda x: code1.loc[x]['name']))"
   ]
  },
  {
   "cell_type": "code",
   "execution_count": null,
   "metadata": {
    "collapsed": true
   },
   "outputs": [],
   "source": [
    "yd"
   ]
  },
  {
   "cell_type": "markdown",
   "metadata": {},
   "source": [
    "## 6.5将异动的版块和时间对应起来"
   ]
  },
  {
   "cell_type": "code",
   "execution_count": null,
   "metadata": {
    "collapsed": true
   },
   "outputs": [],
   "source": [
    "res=pd.DataFrame([block.get_code(x).block_name for x in list(yd.code)], index=yd.set_index(['datetime','code']).index)"
   ]
  },
  {
   "cell_type": "code",
   "execution_count": null,
   "metadata": {
    "collapsed": true
   },
   "outputs": [],
   "source": [
    "res"
   ]
  },
  {
   "cell_type": "markdown",
   "metadata": {},
   "source": [
    "# 7.查看异动个股所属版块"
   ]
  },
  {
   "cell_type": "code",
   "execution_count": null,
   "metadata": {
    "collapsed": true
   },
   "outputs": [],
   "source": [
    "block.get_code('002662').block_name"
   ]
  },
  {
   "cell_type": "markdown",
   "metadata": {},
   "source": [
    "# 8.我们可以使用QA_DataStruct_series来加载异动series 方便我们查看"
   ]
  },
  {
   "cell_type": "code",
   "execution_count": null,
   "metadata": {
    "collapsed": true
   },
   "outputs": [],
   "source": [
    "mvs=QA.QA_DataStruct_Series(fast_moving)"
   ]
  },
  {
   "cell_type": "code",
   "execution_count": null,
   "metadata": {
    "collapsed": true
   },
   "outputs": [],
   "source": [
    "mvs"
   ]
  },
  {
   "cell_type": "markdown",
   "metadata": {},
   "source": [
    "选取某一个股票"
   ]
  },
  {
   "cell_type": "code",
   "execution_count": null,
   "metadata": {
    "collapsed": true,
    "scrolled": true
   },
   "outputs": [],
   "source": [
    "mvs.select_code('000411').series"
   ]
  },
  {
   "cell_type": "markdown",
   "metadata": {},
   "source": [
    "选取某一个时刻"
   ]
  },
  {
   "cell_type": "code",
   "execution_count": null,
   "metadata": {
    "collapsed": true
   },
   "outputs": [],
   "source": [
    "mvs.select_time('2018-07-13 09:35:00').series"
   ]
  },
  {
   "cell_type": "code",
   "execution_count": null,
   "metadata": {
    "collapsed": true
   },
   "outputs": [],
   "source": [
    "block.get_code(list(high_limit.code)[0])()"
   ]
  },
  {
   "cell_type": "code",
   "execution_count": null,
   "metadata": {
    "collapsed": true
   },
   "outputs": [],
   "source": []
  },
  {
   "cell_type": "code",
   "execution_count": null,
   "metadata": {
    "collapsed": true
   },
   "outputs": [],
   "source": []
  }
 ],
 "metadata": {
  "kernelspec": {
   "display_name": "Python 3",
   "language": "python",
   "name": "python3"
  },
  "language_info": {
   "codemirror_mode": {
    "name": "ipython",
    "version": 3
   },
   "file_extension": ".py",
   "mimetype": "text/x-python",
   "name": "python",
   "nbconvert_exporter": "python",
   "pygments_lexer": "ipython3",
   "version": "3.6.5"
  }
 },
 "nbformat": 4,
 "nbformat_minor": 2
}
