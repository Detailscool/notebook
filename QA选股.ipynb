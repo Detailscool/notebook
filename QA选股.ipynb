{
 "cells": [
  {
   "cell_type": "code",
   "execution_count": 24,
   "metadata": {},
   "outputs": [],
   "source": [
    "import QUANTAXIS as QA\n",
    "import matplotlib.pyplot as plt\n",
    "import numpy as np\n",
    "import pandas as pd\n",
    "from talib import *\n",
    "import time\n",
    "import datetime\n"
   ]
  },
  {
   "cell_type": "code",
   "execution_count": 25,
   "metadata": {},
   "outputs": [
    {
     "data": {
      "text/plain": [
       "'\\nQA_code_list = QA.QA_fetch_stock_list_adv()\\nQA_code_list\\nQA_code = QA_code_list.code.tolist() \\nQA_code\\nQA_qfq_data = QA.QA_fetch_stock_day_adv(QA_code,start,end).to_qfq() \\nQA_qfq = QA_qfq_data.data\\nQA_qfq\\n'"
      ]
     },
     "execution_count": 25,
     "metadata": {},
     "output_type": "execute_result"
    }
   ],
   "source": [
    "'''\n",
    "QA_code_list = QA.QA_fetch_stock_list_adv()\n",
    "QA_code_list\n",
    "QA_code = QA_code_list.code.tolist() \n",
    "QA_code\n",
    "QA_qfq_data = QA.QA_fetch_stock_day_adv(QA_code,start,end).to_qfq() \n",
    "QA_qfq = QA_qfq_data.data\n",
    "QA_qfq\n",
    "'''"
   ]
  },
  {
   "cell_type": "code",
   "execution_count": 26,
   "metadata": {},
   "outputs": [],
   "source": [
    "def market_list():\n",
    "    import QUANTAXIS as QA\n",
    "    return list(QA.QA_fetch_stock_list_adv().code)"
   ]
  },
  {
   "cell_type": "code",
   "execution_count": 29,
   "metadata": {},
   "outputs": [],
   "source": [
    "# 定义均线金叉、长期均线上扬的选股函数\n",
    "def ma_select(code_list=market_list(), date=None, short=10, long=100):\n",
    "#def ma_select(code_list= QA_code_list.code.tolist() , date=None, short=10, long=100):\n",
    "    \"\"\"\n",
    "    :param code_list: 选股范围，默认全市场\n",
    "    :param date: 选股日期，默认None为现在\n",
    "    :param short: 短期均线\n",
    "    :param long: 长期均线\n",
    "    :return: 返回选后的股票列表\n",
    "    \"\"\"\n",
    "    now = datetime.now().strftime('%Y-%m-%d')\n",
    "    if date is None:\n",
    "        date = now\n",
    "    date = QA.QA_util_get_real_date(date)\n",
    "    if date == now and datetime.now().strftime('%H:%M') < '09:30':\n",
    "        date = QA.QA_util_get_last_day(date, n=1)\n",
    "    long_days_ago = QA.QA_util_get_last_day(date=date, n=long)\n",
    "    data = QA.QA_fetch_stock_day_adv(code=code_list, start=long_days_ago, end=date)\n",
    "    data = data.to_qfq()\n",
    "    ind_data = data.add_func(QA.QA_indicator_MA, short, long)\n",
    "    # 选取最后两日的数据\n",
    "    ind_1 = ind_data.xs(date, level=0)\n",
    "    ind_2 = ind_data.xs(QA.QA_util_get_last_day(date, 1), level=0)\n",
    "    # 最后两日都有数据的股票代码\n",
    "    code = list(set(ind_1.index) & set(ind_2.index))\n",
    "    # 将最后两日的数据切齐\n",
    "    ind_1 = ind_1.reindex(code)\n",
    "    ind_2 = ind_2.reindex(code)\n",
    "    # 选取最后一天均线大于前一天均线的代码列表\n",
    "    code = list(ind_1[ind_1['MA'+str(long)] > ind_2['MA'+str(long)]].index)\n",
    "    ind_1 = ind_1.reindex(code)\n",
    "    # 选取均线金叉的股票代码\n",
    "    code = list(ind_1[ind_1['MA'+str(short)] > ind_1['MA'+str(long)]].index)\n",
    "    return code\n"
   ]
  },
  {
   "cell_type": "code",
   "execution_count": null,
   "metadata": {},
   "outputs": [],
   "source": []
  },
  {
   "cell_type": "code",
   "execution_count": null,
   "metadata": {},
   "outputs": [],
   "source": []
  },
  {
   "cell_type": "code",
   "execution_count": null,
   "metadata": {},
   "outputs": [],
   "source": []
  }
 ],
 "metadata": {
  "kernelspec": {
   "display_name": "Python 3",
   "language": "python",
   "name": "python3"
  },
  "language_info": {
   "codemirror_mode": {
    "name": "ipython",
    "version": 3
   },
   "file_extension": ".py",
   "mimetype": "text/x-python",
   "name": "python",
   "nbconvert_exporter": "python",
   "pygments_lexer": "ipython3",
   "version": "3.6.5"
  }
 },
 "nbformat": 4,
 "nbformat_minor": 2
}
