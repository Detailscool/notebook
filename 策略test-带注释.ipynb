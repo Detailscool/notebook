{
 "cells": [
  {
   "cell_type": "code",
   "execution_count": 1,
   "metadata": {
    "collapsed": true
   },
   "outputs": [],
   "source": [
    "import unittest\n",
    "import pandas as pd\n",
    "import tushare as QATs\n",
    "from QUANTAXIS import QUANTAXIS as QA\n",
    "from QUANTAXIS.QAARP.QARisk import QA_Performance, QA_Risk\n",
    "from QUANTAXIS.QAARP.QAStrategy import QA_Strategy\n",
    "from QUANTAXIS.QAARP.QAUser import QA_User\n",
    "from QUANTAXIS.QABacktest.QABacktest import QA_Backtest\n",
    "from QUANTAXIS.QAFetch.QATdx import QA_fetch_get_stock_day\n",
    "from QUANTAXIS.QAIndicator import QA_indicator_MA\n",
    "from QUANTAXIS.QAUtil.QADate import QA_util_datetime_to_strdate\n",
    "from QUANTAXIS.QAUtil.QALogs import QA_util_log_info\n",
    "from QUANTAXIS.QAUtil.QAParameter import (AMOUNT_MODEL, DATASOURCE, FREQUENCE,\n",
    "                                          MARKET_TYPE, ORDER_DIRECTION,\n",
    "                                          ORDER_MODEL, OUTPUT_FORMAT)"
   ]
  },
  {
   "cell_type": "code",
   "execution_count": 2,
   "metadata": {
    "scrolled": false
   },
   "outputs": [
    {
     "name": "stderr",
     "output_type": "stream",
     "text": [
      "QUANTAXIS>> Selecting the Best Server IP of TDX\n"
     ]
    },
    {
     "name": "stdout",
     "output_type": "stream",
     "text": [
      "USING DEFAULT STOCK IP\n",
      "️Bad FUTUREIP REPSONSE 124.74.236.94\n",
      "DEFAULT FUTURE IP is BAD, RETESTING\n",
      "️Bad FUTUREIP REPSONSE 124.74.236.94\n",
      "️Bad FUTUREIP REPSONSE 218.80.248.229\n",
      "️Bad FUTUREIP REPSONSE 124.74.236.94\n",
      "️Bad FUTUREIP REPSONSE 58.246.109.27\n",
      "️Bad FUTUREIP REPSONSE 112.74.214.43\n",
      "️Bad FUTUREIP REPSONSE 120.24.0.77\n",
      "️Bad FUTUREIP REPSONSE 106.14.95.149\n",
      "️Bad FUTUREIP REPSONSE 119.97.185.5\n",
      "️Bad FUTUREIP REPSONSE 202.103.36.71\n",
      "️Bad FUTUREIP REPSONSE 59.175.238.38\n",
      "️Bad FUTUREIP REPSONSE 113.105.142.136\n",
      "BAD RESPONSE 61.152.107.141\n",
      "BAD RESPONSE 61.152.107.171\n",
      "BAD RESPONSE 119.147.86.171\n",
      "️Bad FUTUREIP REPSONSE 47.92.127.181\n"
     ]
    },
    {
     "name": "stderr",
     "output_type": "stream",
     "text": [
      "QUANTAXIS>> === The BEST SERVER ===\n",
      " stock_ip 114.80.80.222 future_ip 124.74.236.94\n"
     ]
    },
    {
     "name": "stdout",
     "output_type": "stream",
     "text": [
      "'open'\n"
     ]
    },
    {
     "ename": "TypeError",
     "evalue": "'NoneType' object is not subscriptable",
     "output_type": "error",
     "traceback": [
      "\u001b[0;31m---------------------------------------------------------------------------\u001b[0m",
      "\u001b[0;31mTypeError\u001b[0m                                 Traceback (most recent call last)",
      "\u001b[0;32m<ipython-input-2-17d654a6807d>\u001b[0m in \u001b[0;36m<module>\u001b[0;34m()\u001b[0m\n\u001b[1;32m     98\u001b[0m \u001b[0;34m\u001b[0m\u001b[0m\n\u001b[1;32m     99\u001b[0m \u001b[0;32mif\u001b[0m \u001b[0m__name__\u001b[0m \u001b[0;34m==\u001b[0m \u001b[0;34m'__main__'\u001b[0m\u001b[0;34m:\u001b[0m\u001b[0;34m\u001b[0m\u001b[0m\n\u001b[0;32m--> 100\u001b[0;31m     \u001b[0mTest_QABacktest\u001b[0m\u001b[0;34m(\u001b[0m\u001b[0;34m)\u001b[0m\u001b[0;34m.\u001b[0m\u001b[0mtestBacktraceTest\u001b[0m\u001b[0;34m(\u001b[0m\u001b[0;34m)\u001b[0m\u001b[0;31m#该处是否可以直接修改为 Test_QABacktest().run_daybacktest()\u001b[0m\u001b[0;34m\u001b[0m\u001b[0m\n\u001b[0m",
      "\u001b[0;32m<ipython-input-2-17d654a6807d>\u001b[0m in \u001b[0;36mtestBacktraceTest\u001b[0;34m(self)\u001b[0m\n\u001b[1;32m     80\u001b[0m \u001b[0;32mclass\u001b[0m \u001b[0mTest_QABacktest\u001b[0m\u001b[0;34m(\u001b[0m\u001b[0munittest\u001b[0m\u001b[0;34m.\u001b[0m\u001b[0mTestCase\u001b[0m\u001b[0;34m)\u001b[0m\u001b[0;34m:\u001b[0m\u001b[0;34m\u001b[0m\u001b[0m\n\u001b[1;32m     81\u001b[0m     \u001b[0;32mdef\u001b[0m \u001b[0mtestBacktraceTest\u001b[0m\u001b[0;34m(\u001b[0m\u001b[0mself\u001b[0m\u001b[0;34m)\u001b[0m\u001b[0;34m:\u001b[0m\u001b[0;31m#这个是否可以直接删除该方法\u001b[0m\u001b[0;34m\u001b[0m\u001b[0m\n\u001b[0;32m---> 82\u001b[0;31m         \u001b[0mself\u001b[0m\u001b[0;34m.\u001b[0m\u001b[0mrun_daybacktest\u001b[0m\u001b[0;34m(\u001b[0m\u001b[0;34m)\u001b[0m\u001b[0;34m\u001b[0m\u001b[0m\n\u001b[0m\u001b[1;32m     83\u001b[0m         \u001b[0;32mpass\u001b[0m\u001b[0;34m\u001b[0m\u001b[0m\n\u001b[1;32m     84\u001b[0m     \u001b[0;32mdef\u001b[0m \u001b[0mrun_daybacktest\u001b[0m\u001b[0;34m(\u001b[0m\u001b[0mself\u001b[0m\u001b[0;34m)\u001b[0m\u001b[0;34m:\u001b[0m\u001b[0;34m\u001b[0m\u001b[0m\n",
      "\u001b[0;32m<ipython-input-2-17d654a6807d>\u001b[0m in \u001b[0;36mrun_daybacktest\u001b[0;34m(self)\u001b[0m\n\u001b[1;32m     90\u001b[0m                             \u001b[0mend\u001b[0m\u001b[0;34m=\u001b[0m\u001b[0mself\u001b[0m\u001b[0;34m.\u001b[0m\u001b[0mtime_to_day\u001b[0m\u001b[0;34m,\u001b[0m\u001b[0;34m\u001b[0m\u001b[0m\n\u001b[1;32m     91\u001b[0m                             \u001b[0mcode_list\u001b[0m\u001b[0;34m=\u001b[0m\u001b[0;34m[\u001b[0m\u001b[0;34m'300439'\u001b[0m\u001b[0;34m]\u001b[0m\u001b[0;34m,\u001b[0m\u001b[0;34m\u001b[0m\u001b[0m\n\u001b[0;32m---> 92\u001b[0;31m                             commission_fee=0.00015)\n\u001b[0m\u001b[1;32m     93\u001b[0m         \u001b[0mbacktest\u001b[0m\u001b[0;34m.\u001b[0m\u001b[0mstart_market\u001b[0m\u001b[0;34m(\u001b[0m\u001b[0;34m)\u001b[0m\u001b[0;34m\u001b[0m\u001b[0m\n\u001b[1;32m     94\u001b[0m         \u001b[0mbacktest\u001b[0m\u001b[0;34m.\u001b[0m\u001b[0mrun\u001b[0m\u001b[0;34m(\u001b[0m\u001b[0;34m)\u001b[0m\u001b[0;34m\u001b[0m\u001b[0m\n",
      "\u001b[0;32m<ipython-input-2-17d654a6807d>\u001b[0m in \u001b[0;36m__init__\u001b[0;34m(self, market_type, frequence, start, end, code_list, commission_fee)\u001b[0m\n\u001b[1;32m     58\u001b[0m         \u001b[0msuper\u001b[0m\u001b[0;34m(\u001b[0m\u001b[0;34m)\u001b[0m\u001b[0;34m.\u001b[0m\u001b[0m__init__\u001b[0m\u001b[0;34m(\u001b[0m\u001b[0mmarket_type\u001b[0m\u001b[0;34m,\u001b[0m  \u001b[0mfrequence\u001b[0m\u001b[0;34m,\u001b[0m \u001b[0mstart\u001b[0m\u001b[0;34m,\u001b[0m \u001b[0mend\u001b[0m\u001b[0;34m,\u001b[0m \u001b[0mcode_list\u001b[0m\u001b[0;34m,\u001b[0m \u001b[0mcommission_fee\u001b[0m\u001b[0;34m)\u001b[0m\u001b[0;34m\u001b[0m\u001b[0m\n\u001b[1;32m     59\u001b[0m         \u001b[0mself\u001b[0m\u001b[0;34m.\u001b[0m\u001b[0muser\u001b[0m \u001b[0;34m=\u001b[0m \u001b[0mQA_User\u001b[0m\u001b[0;34m(\u001b[0m\u001b[0;34m)\u001b[0m\u001b[0;34m\u001b[0m\u001b[0m\n\u001b[0;32m---> 60\u001b[0;31m         \u001b[0mmastrategy\u001b[0m \u001b[0;34m=\u001b[0m \u001b[0mMAStrategy\u001b[0m\u001b[0;34m(\u001b[0m\u001b[0;34m)\u001b[0m\u001b[0;34m\u001b[0m\u001b[0m\n\u001b[0m\u001b[1;32m     61\u001b[0m         \u001b[0mself\u001b[0m\u001b[0;34m.\u001b[0m\u001b[0mportfolio\u001b[0m\u001b[0;34m,\u001b[0m \u001b[0mself\u001b[0m\u001b[0;34m.\u001b[0m\u001b[0maccount\u001b[0m \u001b[0;34m=\u001b[0m \u001b[0mself\u001b[0m\u001b[0;34m.\u001b[0m\u001b[0muser\u001b[0m\u001b[0;34m.\u001b[0m\u001b[0mregister_account\u001b[0m\u001b[0;34m(\u001b[0m\u001b[0mmastrategy\u001b[0m\u001b[0;34m)\u001b[0m\u001b[0;34m\u001b[0m\u001b[0m\n\u001b[1;32m     62\u001b[0m     \u001b[0;32mdef\u001b[0m \u001b[0mafter_success\u001b[0m\u001b[0;34m(\u001b[0m\u001b[0mself\u001b[0m\u001b[0;34m)\u001b[0m\u001b[0;34m:\u001b[0m\u001b[0;34m\u001b[0m\u001b[0m\n",
      "\u001b[0;32m<ipython-input-2-17d654a6807d>\u001b[0m in \u001b[0;36m__init__\u001b[0;34m(self)\u001b[0m\n\u001b[1;32m      9\u001b[0m             '300439', self.date_start, self.date_end, '01')\t\t#数据获取TDX\n\u001b[1;32m     10\u001b[0m         \u001b[0;34m'''--------------初始化技术指标----------------'''\u001b[0m\u001b[0;34m\u001b[0m\u001b[0m\n\u001b[0;32m---> 11\u001b[0;31m         \u001b[0mself\u001b[0m\u001b[0;34m.\u001b[0m\u001b[0mma05\u001b[0m \u001b[0;34m=\u001b[0m \u001b[0mQA_indicator_MA\u001b[0m\u001b[0;34m(\u001b[0m\u001b[0mself\u001b[0m\u001b[0;34m.\u001b[0m\u001b[0mdf_from_Tdx\u001b[0m\u001b[0;34m,\u001b[0m \u001b[0;36m5\u001b[0m\u001b[0;34m)\u001b[0m                \u001b[0;31m#5日均线\u001b[0m\u001b[0;34m\u001b[0m\u001b[0m\n\u001b[0m\u001b[1;32m     12\u001b[0m         \u001b[0mself\u001b[0m\u001b[0;34m.\u001b[0m\u001b[0mma10\u001b[0m \u001b[0;34m=\u001b[0m \u001b[0mQA_indicator_MA\u001b[0m\u001b[0;34m(\u001b[0m\u001b[0mself\u001b[0m\u001b[0;34m.\u001b[0m\u001b[0mdf_from_Tdx\u001b[0m\u001b[0;34m,\u001b[0m \u001b[0;36m10\u001b[0m\u001b[0;34m)\u001b[0m               \u001b[0;31m#10日均线\u001b[0m\u001b[0;34m\u001b[0m\u001b[0m\n\u001b[1;32m     13\u001b[0m         \u001b[0mself\u001b[0m\u001b[0;34m.\u001b[0m\u001b[0mma15\u001b[0m \u001b[0;34m=\u001b[0m \u001b[0mQA_indicator_MA\u001b[0m\u001b[0;34m(\u001b[0m\u001b[0mself\u001b[0m\u001b[0;34m.\u001b[0m\u001b[0mdf_from_Tdx\u001b[0m\u001b[0;34m,\u001b[0m \u001b[0;36m15\u001b[0m\u001b[0;34m)\u001b[0m               \u001b[0;31m#15日均线\u001b[0m\u001b[0;34m\u001b[0m\u001b[0m\n",
      "\u001b[0;32m/Volumes/QuantOsUSB/QuantOsUSB/kivy.app/Contents/Resources/venv/lib/python3.6/site-packages/QUANTAXIS/QAIndicator/indicators.py\u001b[0m in \u001b[0;36mQA_indicator_MA\u001b[0;34m(DataFrame, *args, **kwargs)\u001b[0m\n\u001b[1;32m     66\u001b[0m     \"\"\"\n\u001b[1;32m     67\u001b[0m \u001b[0;34m\u001b[0m\u001b[0m\n\u001b[0;32m---> 68\u001b[0;31m     \u001b[0mCLOSE\u001b[0m \u001b[0;34m=\u001b[0m \u001b[0mDataFrame\u001b[0m\u001b[0;34m[\u001b[0m\u001b[0;34m'close'\u001b[0m\u001b[0;34m]\u001b[0m\u001b[0;34m\u001b[0m\u001b[0m\n\u001b[0m\u001b[1;32m     69\u001b[0m     \u001b[0;32mreturn\u001b[0m \u001b[0mpd\u001b[0m\u001b[0;34m.\u001b[0m\u001b[0mDataFrame\u001b[0m\u001b[0;34m(\u001b[0m\u001b[0;34m{\u001b[0m\u001b[0;34m'MA{}'\u001b[0m\u001b[0;34m.\u001b[0m\u001b[0mformat\u001b[0m\u001b[0;34m(\u001b[0m\u001b[0mN\u001b[0m\u001b[0;34m)\u001b[0m\u001b[0;34m:\u001b[0m \u001b[0mMA\u001b[0m\u001b[0;34m(\u001b[0m\u001b[0mCLOSE\u001b[0m\u001b[0;34m,\u001b[0m \u001b[0mN\u001b[0m\u001b[0;34m)\u001b[0m  \u001b[0;32mfor\u001b[0m \u001b[0mN\u001b[0m \u001b[0;32min\u001b[0m \u001b[0mlist\u001b[0m\u001b[0;34m(\u001b[0m\u001b[0margs\u001b[0m\u001b[0;34m)\u001b[0m\u001b[0;34m}\u001b[0m\u001b[0;34m)\u001b[0m\u001b[0;34m\u001b[0m\u001b[0m\n\u001b[1;32m     70\u001b[0m \u001b[0;34m\u001b[0m\u001b[0m\n",
      "\u001b[0;31mTypeError\u001b[0m: 'NoneType' object is not subscriptable"
     ]
    }
   ],
   "source": [
    "class MAStrategy(QA_Strategy):\n",
    "    def __init__(self):\n",
    "        super().__init__()\n",
    "        self.frequence = FREQUENCE.DAY\t\t\t\t\t        #日线\n",
    "        self.market_type = MARKET_TYPE.STOCK_CN\t\t\t        #市场类型：中国stock\n",
    "        self.date_start = '2016-01-01' \t\t                    #获取数据的开始时间\n",
    "        self.date_end = '2018-01-01'\t\t                    #获取数据的回测结束时间\n",
    "        self.df_from_Tdx = QA_fetch_get_stock_day(\n",
    "            '300439', self.date_start, self.date_end, '01')\t\t#数据获取TDX\n",
    "        '''--------------初始化技术指标----------------'''\n",
    "        self.ma05 = QA_indicator_MA(self.df_from_Tdx, 5)\t\t#5日均线\n",
    "        self.ma10 = QA_indicator_MA(self.df_from_Tdx, 10)\t\t#10日均线\n",
    "        self.ma15 = QA_indicator_MA(self.df_from_Tdx, 15)\t\t#15日均线\n",
    "        self.ma20 = QA_indicator_MA(self.df_from_Tdx, 20)\t\t#20日均线\n",
    "    def on_bar(self, event):\n",
    "        sellavailable = self.sell_available\n",
    "        for item in event.market_data.code:\n",
    "            current_date = self.current_time.date()\n",
    "            today_T = pd.Timestamp(current_date)\n",
    "            vma05 = self.ma05.at[today_T, 'MA']\n",
    "            vma10 = self.ma10.at[today_T, 'MA']\n",
    "            vma15 = self.ma15.at[today_T, 'MA']\n",
    "            vma20 = self.ma20.at[today_T, 'MA']\n",
    "            if vma05 > vma10 and vma10 > vma15 and vma15 > vma20:\n",
    "                if self.sell_available is not None and self.sell_available.get(item, 0) == 0:\n",
    "                    print(\"均线多头排列，买入 buy %d\" % (100))\n",
    "                    print(event.send_order)\n",
    "                    print(type(event.send_order))\n",
    "                    event.send_order(account_id=self.account_cookie,\n",
    "                                     amount=100,#订单一手\n",
    "                                     amount_model=AMOUNT_MODEL.BY_AMOUNT,#订单计算模式\n",
    "                                     time=self.current_time,\n",
    "                                     code=item,\n",
    "                                     price=0,\n",
    "                                     order_model=ORDER_MODEL.MARKET,\n",
    "                                     towards=ORDER_DIRECTION.BUY,#订单类型：买单\n",
    "                                     market_type=self.market_type,\n",
    "                                     frequence=self.frequence,\n",
    "                                     broker_name=self.broker)\n",
    "            elif vma05 < vma10 and vma10 < vma15 and vma15 < vma20:\n",
    "                if self.sell_available is not None and self.sell_available.get(item, 0) > 0:\n",
    "                    print(\"均线空头排列，卖出%d\" % 100)\n",
    "                    event.send_order(account_id=self.account_cookie,\n",
    "                                     amount=self.sell_available[item],\n",
    "                                     amount_model=AMOUNT_MODEL.BY_AMOUNT,\n",
    "                                     time=self.current_time,\n",
    "                                     code=item,\n",
    "                                     price=0,\n",
    "                                     order_model=ORDER_MODEL.MARKET,\n",
    "                                     towards=ORDER_DIRECTION.SELL,#订单类型：卖单\n",
    "                                     market_type=self.market_type,\n",
    "                                     frequence=self.frequence,\n",
    "                                     broker_name=self.broker)\n",
    "            else:\n",
    "                pass\n",
    "class Backtest(QA_Backtest):\n",
    "    def __init__(self, market_type, frequence, start, end, code_list, commission_fee):\n",
    "        super().__init__(market_type,  frequence, start, end, code_list, commission_fee)\n",
    "        self.user = QA_User()\n",
    "        mastrategy = MAStrategy()\n",
    "        self.portfolio, self.account = self.user.register_account(mastrategy)\n",
    "    def after_success(self):\n",
    "        QA_util_log_info(self.account.history_table)\n",
    "        # check if the history_table is empty list\n",
    "        if len(self.account.history_table) == 0:\n",
    "            # 没有交易历史记录，直接返回\n",
    "            return\n",
    "\n",
    "        risk = QA_Risk(self.account, benchmark_code='000300',  #沪深300\n",
    "                       benchmark_type=MARKET_TYPE.INDEX_CN)\n",
    "        print(risk().T)\n",
    "        risk.plot_assets_curve()\n",
    "        #risk.plot_dailyhold()\n",
    "        #risk.plot_signal()\n",
    "        #performance = QA_Performance(self.account)\n",
    "        #performance.plot_pnlmoney(performance.pnl_fifo)\n",
    "        #performance.plot_pnlratio(performance.pnl_fifo)\n",
    "        self.account.save()\n",
    "        risk.save()\n",
    "class Test_QABacktest(unittest.TestCase):\n",
    "    def testBacktraceTest(self):#这个是否可以直接删除该方法\n",
    "        self.run_daybacktest()\n",
    "        pass\n",
    "    def run_daybacktest(self):\n",
    "        self.time_to_Market_300439 = '2016-01-01'           #回测开始时间\n",
    "        self.time_to_day = '2018-01-01'                     #回测结束时间\n",
    "        backtest = Backtest(market_type=MARKET_TYPE.STOCK_CN,\n",
    "                            frequence=FREQUENCE.DAY,\n",
    "                            start=self.time_to_Market_300439,\n",
    "                            end=self.time_to_day,\n",
    "                            code_list=['300439'],\n",
    "                            commission_fee=0.00015)\n",
    "        backtest.start_market()\n",
    "        backtest.run()\n",
    "        backtest.stop()\n",
    "        print(\"结束回测！\")\n",
    "\n",
    "\n",
    "if __name__ == '__main__':\n",
    "    Test_QABacktest().testBacktraceTest()#该处是否可以直接修改为 Test_QABacktest().run_daybacktest()"
   ]
  },
  {
   "cell_type": "code",
   "execution_count": null,
   "metadata": {},
   "outputs": [],
   "source": []
  },
  {
   "cell_type": "code",
   "execution_count": null,
   "metadata": {},
   "outputs": [],
   "source": []
  }
 ],
 "metadata": {
  "kernelspec": {
   "display_name": "Python 3",
   "language": "python",
   "name": "python3"
  },
  "language_info": {
   "codemirror_mode": {
    "name": "ipython",
    "version": 3
   },
   "file_extension": ".py",
   "mimetype": "text/x-python",
   "name": "python",
   "nbconvert_exporter": "python",
   "pygments_lexer": "ipython3",
   "version": "3.6.5"
  }
 },
 "nbformat": 4,
 "nbformat_minor": 2
}
