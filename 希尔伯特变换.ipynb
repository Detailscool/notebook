{
 "cells": [
  {
   "cell_type": "code",
   "execution_count": 1,
   "metadata": {
    "collapsed": true
   },
   "outputs": [],
   "source": [
    "import QUANTAXIS as QA\n",
    "\n",
    "# 获取全市场的股票代码信息列表\n",
    "QA_code_list = QA.QA_fetch_stock_list_adv()\n",
    "#QA_code_list\n",
    "#QA全市场code列表\n",
    "QA_code = QA_code_list.code.tolist() \n",
    "#QA_code\n",
    "#QA全市场name列表\n",
    "QA_name = QA_code_list.name.tolist() \n",
    "#QA_name \n",
    "#训练起始时间\n",
    "start_date='2015-06-01'\n",
    "end_date='2017-06-01'\n",
    "#inst = D.instruments(start_date, end_date, market='CN_STOCK_A')\n",
    "#print(inst)\n",
    "#instruments = ['600519']\n",
    "instruments = QA_code\n",
    "hists = QA.QA_fetch_stock_day_adv(instruments, start_date, end_date).data\n",
    "hist = hists"
   ]
  },
  {
   "cell_type": "code",
   "execution_count": 5,
   "metadata": {},
   "outputs": [
    {
     "ename": "AttributeError",
     "evalue": "QA_DataStruct_* Class Currently has no attribute set_index",
     "output_type": "error",
     "traceback": [
      "\u001b[0;31m---------------------------------------------------------------------------\u001b[0m",
      "\u001b[0;31mAttributeError\u001b[0m                            Traceback (most recent call last)",
      "\u001b[0;32m<ipython-input-5-3b3b7e031d53>\u001b[0m in \u001b[0;36m<module>\u001b[0;34m()\u001b[0m\n\u001b[1;32m      8\u001b[0m \u001b[0;31m#history_data = D.history_data(instruments, '2012-06-01', end_date, fields=['open','close'])\u001b[0m\u001b[0;34m\u001b[0m\u001b[0;34m\u001b[0m\u001b[0m\n\u001b[1;32m      9\u001b[0m \u001b[0mhistory_data\u001b[0m \u001b[0;34m=\u001b[0m \u001b[0mQA\u001b[0m\u001b[0;34m.\u001b[0m\u001b[0mQA_fetch_stock_day_adv\u001b[0m\u001b[0;34m(\u001b[0m\u001b[0minstruments\u001b[0m\u001b[0;34m,\u001b[0m \u001b[0mstart_date\u001b[0m\u001b[0;34m,\u001b[0m \u001b[0mend_date\u001b[0m\u001b[0;34m)\u001b[0m\u001b[0;34m\u001b[0m\u001b[0m\n\u001b[0;32m---> 10\u001b[0;31m \u001b[0mhistory_data\u001b[0m\u001b[0;34m.\u001b[0m\u001b[0mset_index\u001b[0m\u001b[0;34m(\u001b[0m\u001b[0;34m'date'\u001b[0m\u001b[0;34m,\u001b[0m\u001b[0minplace\u001b[0m\u001b[0;34m=\u001b[0m\u001b[0;32mTrue\u001b[0m\u001b[0;34m)\u001b[0m\u001b[0;34m\u001b[0m\u001b[0m\n\u001b[0m\u001b[1;32m     11\u001b[0m \u001b[0;34m\u001b[0m\u001b[0m\n\u001b[1;32m     12\u001b[0m \u001b[0mhistory_data\u001b[0m\u001b[0;34m[\u001b[0m\u001b[0;34m'ma_20'\u001b[0m\u001b[0;34m]\u001b[0m \u001b[0;34m=\u001b[0m \u001b[0mhistory_data\u001b[0m\u001b[0;34m.\u001b[0m\u001b[0mclose\u001b[0m\u001b[0;34m.\u001b[0m\u001b[0mrolling\u001b[0m\u001b[0;34m(\u001b[0m\u001b[0;36m20\u001b[0m\u001b[0;34m)\u001b[0m\u001b[0;34m.\u001b[0m\u001b[0mmean\u001b[0m\u001b[0;34m(\u001b[0m\u001b[0;34m)\u001b[0m                        \u001b[0;31m# 计算MA20\u001b[0m\u001b[0;34m\u001b[0m\u001b[0m\n",
      "\u001b[0;32m/Volumes/QuantOsUSB/QuantOsUSB/kivy.app/Contents/Resources/venv/lib/python3.6/site-packages/QUANTAXIS/QAData/base_datastruct.py\u001b[0m in \u001b[0;36m__getattr__\u001b[0;34m(self, attr)\u001b[0m\n\u001b[1;32m    215\u001b[0m         \u001b[0;31m# except:\u001b[0m\u001b[0;34m\u001b[0m\u001b[0;34m\u001b[0m\u001b[0m\n\u001b[1;32m    216\u001b[0m         raise AttributeError(\n\u001b[0;32m--> 217\u001b[0;31m             'QA_DataStruct_* Class Currently has no attribute {}'.format(attr))\n\u001b[0m\u001b[1;32m    218\u001b[0m \u001b[0;34m\u001b[0m\u001b[0m\n\u001b[1;32m    219\u001b[0m     '''\n",
      "\u001b[0;31mAttributeError\u001b[0m: QA_DataStruct_* Class Currently has no attribute set_index"
     ]
    }
   ],
   "source": [
    "import numpy as np\n",
    "from scipy.signal import hilbert\n",
    "#start_date = '2013-01-01'\n",
    "#end_date = '2017-10-23'\n",
    "benchmark = '000300.INDX'       # 基准：HS300\n",
    "instruments = ['000001']    # 标的：HS300 ETF\n",
    "capital_base = 100000\n",
    "#history_data = D.history_data(instruments, '2012-06-01', end_date, fields=['open','close'])\n",
    "history_data = QA.QA_fetch_stock_day_adv(instruments, start_date, end_date)\n",
    "history_data.set_index('date',inplace=True)\n",
    "\n",
    "history_data['ma_20'] = history_data.close.rolling(20).mean()                        # 计算MA20\n",
    "history_data['dsR'] = history_data['ma_20']-history_data['ma_20'].shift(1)           # 计算差分\n",
    "history_data['idsR'] = np.nan\n",
    "for n in range(120,len(history_data)):                                               # 计算最近100天的Hilbert变换\n",
    "    history_data['idsR'][n] = np.imag(hilbert(history_data['dsR'][n-100:n+1]))[-1]\n",
    "    \n",
    "def initialize(context):    \n",
    "    context.set_commission(PerOrder(buy_cost=0.0003, sell_cost=0.0003, min_cost=5))      \n",
    "    #print (history_data)\n",
    "        \n",
    "def handle_data(context, data):    \n",
    "    instrument = context.symbol(instruments[0])\n",
    "    dataTmp = history_data.ix[data.current_dt.date()]\n",
    "    cur_position = context.portfolio.positions[instrument].amount    \n",
    "    \n",
    "    if dataTmp['idsR'] > 0 and cur_position == 0:       # 虚部大于0，买入\n",
    "        order_target_percent(instrument, 1)\n",
    "    elif dataTmp['idsR'] < 0 and cur_position > 0:      # 虚部小于0，卖出\n",
    "        order_target_percent(instrument, 0)\n",
    "    \n",
    "\n",
    "\n",
    "\n"
   ]
  },
  {
   "cell_type": "code",
   "execution_count": null,
   "metadata": {
    "collapsed": true
   },
   "outputs": [],
   "source": [
    "m = M.trade.v2(\n",
    "    instruments=instruments,\n",
    "    start_date=start_date,\n",
    "    end_date=end_date,\n",
    "    initialize=initialize,\n",
    "    handle_data=handle_data,\n",
    "    order_price_field_buy='open',\n",
    "    order_price_field_sell='open',\n",
    "    volume_limit=0,\n",
    "    capital_base=capital_base,\n",
    "    benchmark=benchmark,\n",
    ")"
   ]
  }
 ],
 "metadata": {
  "kernelspec": {
   "display_name": "Python 3",
   "language": "python",
   "name": "python3"
  },
  "language_info": {
   "codemirror_mode": {
    "name": "ipython",
    "version": 3
   },
   "file_extension": ".py",
   "mimetype": "text/x-python",
   "name": "python",
   "nbconvert_exporter": "python",
   "pygments_lexer": "ipython3",
   "version": "3.6.5"
  }
 },
 "nbformat": 4,
 "nbformat_minor": 2
}
