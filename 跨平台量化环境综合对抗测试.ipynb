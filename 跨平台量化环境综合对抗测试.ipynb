{
 "cells": [
  {
   "cell_type": "code",
   "execution_count": 1,
   "metadata": {},
   "outputs": [
    {
     "name": "stderr",
     "output_type": "stream",
     "text": [
      "[INFO   ] [Logger      ] Record log in /Users/zy/.kivy/logs/kivy_18-12-12_1.txt\n",
      "[INFO   ] [Kivy        ] v1.10.1\n",
      "[INFO   ] [Python      ] v3.6.5 (default, Jun 21 2018, 07:41:06) \n",
      "[GCC 4.2.1 Compatible Apple LLVM 9.0.0 (clang-900.0.39.2)]\n",
      "[INFO   ] [Factory     ] 194 symbols loaded\n",
      "[INFO   ] [Image       ] Providers: img_tex, img_imageio, img_dds, img_sdl2, img_pil, img_gif (img_ffpyplayer ignored)\n"
     ]
    },
    {
     "name": "stdout",
     "output_type": "stream",
     "text": [
      "kivy 1.10.1\n"
     ]
    }
   ],
   "source": [
    "#测试模块多环境整合！！！\n",
    "from kivy.app import App #kivy跨平台编译环境\n",
    "import kivy \n",
    "print (\"kivy\",kivy.__version__)"
   ]
  },
  {
   "cell_type": "code",
   "execution_count": 1,
   "metadata": {
    "scrolled": true
   },
   "outputs": [
    {
     "name": "stderr",
     "output_type": "stream",
     "text": [
      "UsageError: Cell magic `%%rqalpha` not found.\n"
     ]
    }
   ],
   "source": [
    "%%rqalpha -h\n",
    "\"\""
   ]
  },
  {
   "cell_type": "code",
   "execution_count": 2,
   "metadata": {
    "collapsed": true
   },
   "outputs": [],
   "source": [
    "%load_ext rqalpha "
   ]
  },
  {
   "cell_type": "code",
   "execution_count": null,
   "metadata": {
    "collapsed": true
   },
   "outputs": [],
   "source": [
    "#计划\n",
    "\n",
    "#1。引入模块三个数据连接RQ+QA+DY。\n",
    "\n",
    "#2。1。三份全市场风险评估综合+学习+对抗。\n",
    "\n",
    "#2。2。三份数据选股处理评估+历史时间周期风险分布+学习+对抗。\n",
    "\n",
    "#3。当前仓计算仓位控制和风险控制。\n",
    "\n",
    "#4。买入后持股计算风险分类和仓变控制。\n",
    "\n",
    "#4。1。盈利单锁仓处理和仓控。\n",
    "\n",
    "#4。2。盈利单复利计划。\n",
    "\n",
    "#6。浮亏单锁仓处理和仓控。\n",
    "\n",
    "#7。紧急情况处理。\n",
    "\n",
    "#8。统计与分析评估\n",
    "\n"
   ]
  }
 ],
 "metadata": {
  "kernelspec": {
   "display_name": "Python 3",
   "language": "python",
   "name": "python3"
  },
  "language_info": {
   "codemirror_mode": {
    "name": "ipython",
    "version": 3
   },
   "file_extension": ".py",
   "mimetype": "text/x-python",
   "name": "python",
   "nbconvert_exporter": "python",
   "pygments_lexer": "ipython3",
   "version": "3.6.5"
  }
 },
 "nbformat": 4,
 "nbformat_minor": 2
}
